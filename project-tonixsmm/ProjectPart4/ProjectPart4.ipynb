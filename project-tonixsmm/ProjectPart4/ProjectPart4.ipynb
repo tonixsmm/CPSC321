{
 "cells": [
  {
   "cell_type": "markdown",
   "metadata": {},
   "source": [
    "# Project Part 4 Update\n",
    "\n",
    "Name: **Tony Nguyen**\n",
    "\n",
    "Class: CPSC 321 01\n",
    "\n",
    "Term: Fall 2023\n"
   ]
  },
  {
   "cell_type": "markdown",
   "metadata": {},
   "source": [
    "## Status Update\n",
    "1. I have been working on completing the schema design. Based on the original version, several changes have been made:\n",
    "* Removing flight statistic schemas: Instead of creating a table to save them, I will use SQL aggregation functions to calculate them using SQL's VIEW dynamically.\n",
    "* Adding foreign keys to complete the relationships based on the ER diagram. I also made some changes to the schemas to ensure their normalization constaint.\n",
    "* Populating some data to test the schema design."
   ]
  },
  {
   "cell_type": "markdown",
   "metadata": {},
   "source": [
    "![image.png](https://github.com/Gonzaga-CPSC-321-Fall-2023/project-tonixsmm/blob/2786c1b69894372efe6af1438955265598b3df3f/figures/DB.png)"
   ]
  },
  {
   "cell_type": "markdown",
   "metadata": {},
   "source": [
    "2. On the backend side, I have been working on the API endpoints to support the features. I planned to use FlightRadar24 API at first, but then I realized they only offered it for enterprise use only. With that, I looked for substitute options and found Flightera Flight Data as a perfect substitute. Since Flightera has a limit for number of queries allowed to make under the free tier, I will only used it when needed, meaning I will pre-populate the database with some dummies data to test the features.\n",
    "* I am setting up a Flask app that runs on Python to handle the API endpoints. \n",
    "* I also plan to complete the query functions to connect to the database and return the results to the frontend within this week.\n",
    "* I set up a Heroku app to host the backend API. I will update the API endpoints once I complete them."
   ]
  },
  {
   "cell_type": "markdown",
   "metadata": {},
   "source": [
    "![image-2.png](https://github.com/Gonzaga-CPSC-321-Fall-2023/project-tonixsmm/blob/0e759de6b473f039df71ff140e3137558e6ad114/figures/API.png)"
   ]
  },
  {
   "cell_type": "markdown",
   "metadata": {},
   "source": [
    "3. On the frontend side, I have been working on appsmith to create the initial UI for the app. I have run into some issues with connecting it to the backend API, but I will try to resolve them within this week.\n",
    "* I set up a Docker container to deploy the app. It is my first time setting up a Dockerfile from scratch, so I am still learning how to use it. I will update the Dockerfile once I complete it."
   ]
  },
  {
   "cell_type": "markdown",
   "metadata": {},
   "source": [
    "![image-3.png](https://github.com/Gonzaga-CPSC-321-Fall-2023/project-tonixsmm/blob/0e759de6b473f039df71ff140e3137558e6ad114/figures/appsmith.png)"
   ]
  }
 ],
 "metadata": {
  "language_info": {
   "name": "python"
  }
 },
 "nbformat": 4,
 "nbformat_minor": 2
}
